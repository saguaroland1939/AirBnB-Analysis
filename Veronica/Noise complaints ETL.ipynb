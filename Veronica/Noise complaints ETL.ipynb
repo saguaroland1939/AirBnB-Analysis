{
 "cells": [
  {
   "cell_type": "markdown",
   "metadata": {},
   "source": [
    "# Chicago Noise Complaints ETL"
   ]
  },
  {
   "cell_type": "markdown",
   "metadata": {},
   "source": [
    "### ETL process\n",
    "\n",
    "#### Extract\n",
    "* Import PostgreSQL table into Pandas DataFrame.\n",
    "\n",
    "#### Transform\n",
    "* Drop columns not required.\n",
    "* Rename columns.\n",
    "* Add new columns required.\n",
    "* Drop complaints dated earlier than 1/1/16 (keeping only complaints within approximately last 5 years).\n",
    "* Check for missing data.\n",
    "* Check for duplicates.\n",
    "* Get zip code, full address, latitude, and longitude from Google Maps geocoding API.\n",
    "\n",
    "#### Load\n",
    "* After cleaning, dropping data more than 5 years old, and adding zip code, export to PostgreSQL database. This table may be used on its own to create detailed maps of Chicago noise complaints.\n",
    "\n",
    "#### Additional Transformation\n",
    "* Drop columns no longer needed.\n",
    "* Group data by zip code and get count of noise complaints for each zip code.\n",
    "\n",
    "#### Load\n",
    "* After aggregating to zip code, export data to PostgreSQL database. This table will be related to "
   ]
  },
  {
   "cell_type": "code",
   "execution_count": 10,
   "metadata": {},
   "outputs": [],
   "source": [
    "# Import dependencies.\n",
    "\n",
    "import numpy as np\n",
    "import pandas as pd\n",
    "import requests\n",
    "import datetime as dt\n",
    "from sqlalchemy import create_engine\n",
    "import json\n",
    "\n",
    "# Import credentials from file.\n",
    "\n",
    "# Google maps geocoding API key.\n",
    "from credentials import gmaps_key\n",
    "\n",
    "# Postgres database credentials.\n",
    "from credentials import pgadmin_username\n",
    "from credentials import pgadmin_password"
   ]
  },
  {
   "cell_type": "markdown",
   "metadata": {},
   "source": [
    "## Extract"
   ]
  },
  {
   "cell_type": "markdown",
   "metadata": {},
   "source": [
    "### Import cvs file into Pandas DataFrame."
   ]
  },
  {
   "cell_type": "code",
   "execution_count": 11,
   "metadata": {
    "scrolled": true
   },
   "outputs": [
    {
     "data": {
      "text/html": [
       "<div>\n",
       "<style scoped>\n",
       "    .dataframe tbody tr th:only-of-type {\n",
       "        vertical-align: middle;\n",
       "    }\n",
       "\n",
       "    .dataframe tbody tr th {\n",
       "        vertical-align: top;\n",
       "    }\n",
       "\n",
       "    .dataframe thead th {\n",
       "        text-align: right;\n",
       "    }\n",
       "</style>\n",
       "<table border=\"1\" class=\"dataframe\">\n",
       "  <thead>\n",
       "    <tr style=\"text-align: right;\">\n",
       "      <th></th>\n",
       "      <th>COMPLAINT ID</th>\n",
       "      <th>COMPLAINT TYPE</th>\n",
       "      <th>STREET NUMBER FROM</th>\n",
       "      <th>STREET NUMBER TO</th>\n",
       "      <th>DIRECTION</th>\n",
       "      <th>STREET NAME</th>\n",
       "      <th>STREET TYPE</th>\n",
       "      <th>INSPECTOR</th>\n",
       "      <th>COMPLAINT DATE</th>\n",
       "      <th>COMPLAINT DETAIL</th>\n",
       "      <th>INSPECTION LOG</th>\n",
       "      <th>DATA SOURCE</th>\n",
       "      <th>Modified Date</th>\n",
       "    </tr>\n",
       "  </thead>\n",
       "  <tbody>\n",
       "    <tr>\n",
       "      <th>0</th>\n",
       "      <td>DOECOMP2</td>\n",
       "      <td>Noise Complaint</td>\n",
       "      <td>1</td>\n",
       "      <td>NaN</td>\n",
       "      <td>S</td>\n",
       "      <td>STATE</td>\n",
       "      <td>ST</td>\n",
       "      <td>10</td>\n",
       "      <td>08/23/1993</td>\n",
       "      <td>STREET MUSIC HEAVY NOISE POLLUTION REFERRED TO...</td>\n",
       "      <td>MORE INFORMATION MAY BE AVAILABLE IN THE CDPH ...</td>\n",
       "      <td>HISTORIC DEPT. OF ENVIRONMENT</td>\n",
       "      <td>01/01/2012</td>\n",
       "    </tr>\n",
       "    <tr>\n",
       "      <th>1</th>\n",
       "      <td>DOECOMP73</td>\n",
       "      <td>Noise Complaint</td>\n",
       "      <td>10</td>\n",
       "      <td>NaN</td>\n",
       "      <td>S</td>\n",
       "      <td>WACKER</td>\n",
       "      <td>DR</td>\n",
       "      <td>25</td>\n",
       "      <td>04/02/1993</td>\n",
       "      <td>SAXOPHONE PLAYING ON MADISON.</td>\n",
       "      <td>MORE INFORMATION MAY BE AVAILABLE IN THE CDPH ...</td>\n",
       "      <td>HISTORIC DEPT. OF ENVIRONMENT</td>\n",
       "      <td>01/01/2012</td>\n",
       "    </tr>\n",
       "  </tbody>\n",
       "</table>\n",
       "</div>"
      ],
      "text/plain": [
       "  COMPLAINT ID   COMPLAINT TYPE  STREET NUMBER FROM  STREET NUMBER TO  \\\n",
       "0     DOECOMP2  Noise Complaint                   1               NaN   \n",
       "1    DOECOMP73  Noise Complaint                  10               NaN   \n",
       "\n",
       "  DIRECTION STREET NAME STREET TYPE INSPECTOR COMPLAINT DATE  \\\n",
       "0         S       STATE          ST        10     08/23/1993   \n",
       "1         S      WACKER          DR        25     04/02/1993   \n",
       "\n",
       "                                    COMPLAINT DETAIL  \\\n",
       "0  STREET MUSIC HEAVY NOISE POLLUTION REFERRED TO...   \n",
       "1                      SAXOPHONE PLAYING ON MADISON.   \n",
       "\n",
       "                                      INSPECTION LOG  \\\n",
       "0  MORE INFORMATION MAY BE AVAILABLE IN THE CDPH ...   \n",
       "1  MORE INFORMATION MAY BE AVAILABLE IN THE CDPH ...   \n",
       "\n",
       "                     DATA SOURCE Modified Date  \n",
       "0  HISTORIC DEPT. OF ENVIRONMENT    01/01/2012  \n",
       "1  HISTORIC DEPT. OF ENVIRONMENT    01/01/2012  "
      ]
     },
     "execution_count": 11,
     "metadata": {},
     "output_type": "execute_result"
    }
   ],
   "source": [
    "# Read in csv file and store as Pandas dataframe.\n",
    "noise_complaints_df = pd.read_csv(\"../Resources/Noise_Complaints_chicago.csv\")\n",
    "noise_complaints_df.head(2)"
   ]
  },
  {
   "cell_type": "markdown",
   "metadata": {},
   "source": [
    "## Transform"
   ]
  },
  {
   "cell_type": "markdown",
   "metadata": {},
   "source": [
    "### Drop columns not required."
   ]
  },
  {
   "cell_type": "code",
   "execution_count": 12,
   "metadata": {},
   "outputs": [
    {
     "data": {
      "text/html": [
       "<div>\n",
       "<style scoped>\n",
       "    .dataframe tbody tr th:only-of-type {\n",
       "        vertical-align: middle;\n",
       "    }\n",
       "\n",
       "    .dataframe tbody tr th {\n",
       "        vertical-align: top;\n",
       "    }\n",
       "\n",
       "    .dataframe thead th {\n",
       "        text-align: right;\n",
       "    }\n",
       "</style>\n",
       "<table border=\"1\" class=\"dataframe\">\n",
       "  <thead>\n",
       "    <tr style=\"text-align: right;\">\n",
       "      <th></th>\n",
       "      <th>STREET NUMBER FROM</th>\n",
       "      <th>DIRECTION</th>\n",
       "      <th>STREET NAME</th>\n",
       "      <th>STREET TYPE</th>\n",
       "      <th>COMPLAINT DATE</th>\n",
       "      <th>COMPLAINT DETAIL</th>\n",
       "    </tr>\n",
       "  </thead>\n",
       "  <tbody>\n",
       "    <tr>\n",
       "      <th>0</th>\n",
       "      <td>1</td>\n",
       "      <td>S</td>\n",
       "      <td>STATE</td>\n",
       "      <td>ST</td>\n",
       "      <td>08/23/1993</td>\n",
       "      <td>STREET MUSIC HEAVY NOISE POLLUTION REFERRED TO...</td>\n",
       "    </tr>\n",
       "  </tbody>\n",
       "</table>\n",
       "</div>"
      ],
      "text/plain": [
       "   STREET NUMBER FROM DIRECTION STREET NAME STREET TYPE COMPLAINT DATE  \\\n",
       "0                   1         S       STATE          ST     08/23/1993   \n",
       "\n",
       "                                    COMPLAINT DETAIL  \n",
       "0  STREET MUSIC HEAVY NOISE POLLUTION REFERRED TO...  "
      ]
     },
     "execution_count": 12,
     "metadata": {},
     "output_type": "execute_result"
    }
   ],
   "source": [
    "# Drop COMPLAINT ID, COMPLAINT TYPE, STREET NUMBER TO, INSPECTOR, INSPECTION LOG, DATA SOURCE, and Modified Date columns.\n",
    "(noise_complaints_df.drop(columns=['COMPLAINT ID', 'COMPLAINT TYPE', 'STREET NUMBER TO', 'INSPECTOR', \n",
    "                                   'INSPECTION LOG', 'DATA SOURCE', 'Modified Date'], inplace=True))\n",
    "\n",
    "noise_complaints_df.head(1)"
   ]
  },
  {
   "cell_type": "markdown",
   "metadata": {},
   "source": [
    "### Rename a column."
   ]
  },
  {
   "cell_type": "code",
   "execution_count": 13,
   "metadata": {},
   "outputs": [
    {
     "data": {
      "text/html": [
       "<div>\n",
       "<style scoped>\n",
       "    .dataframe tbody tr th:only-of-type {\n",
       "        vertical-align: middle;\n",
       "    }\n",
       "\n",
       "    .dataframe tbody tr th {\n",
       "        vertical-align: top;\n",
       "    }\n",
       "\n",
       "    .dataframe thead th {\n",
       "        text-align: right;\n",
       "    }\n",
       "</style>\n",
       "<table border=\"1\" class=\"dataframe\">\n",
       "  <thead>\n",
       "    <tr style=\"text-align: right;\">\n",
       "      <th></th>\n",
       "      <th>STREET NUMBER</th>\n",
       "      <th>DIRECTION</th>\n",
       "      <th>STREET NAME</th>\n",
       "      <th>STREET TYPE</th>\n",
       "      <th>COMPLAINT DATE</th>\n",
       "      <th>COMPLAINT DETAIL</th>\n",
       "    </tr>\n",
       "  </thead>\n",
       "  <tbody>\n",
       "    <tr>\n",
       "      <th>0</th>\n",
       "      <td>1</td>\n",
       "      <td>S</td>\n",
       "      <td>STATE</td>\n",
       "      <td>ST</td>\n",
       "      <td>08/23/1993</td>\n",
       "      <td>STREET MUSIC HEAVY NOISE POLLUTION REFERRED TO...</td>\n",
       "    </tr>\n",
       "  </tbody>\n",
       "</table>\n",
       "</div>"
      ],
      "text/plain": [
       "   STREET NUMBER DIRECTION STREET NAME STREET TYPE COMPLAINT DATE  \\\n",
       "0              1         S       STATE          ST     08/23/1993   \n",
       "\n",
       "                                    COMPLAINT DETAIL  \n",
       "0  STREET MUSIC HEAVY NOISE POLLUTION REFERRED TO...  "
      ]
     },
     "execution_count": 13,
     "metadata": {},
     "output_type": "execute_result"
    }
   ],
   "source": [
    "# Rename STREET NUMBER FROM column to simply STREET NUMBER as this column will be used to represent point locations\n",
    "# rather than ranges.\n",
    "noise_complaints_df.rename(columns = {'STREET NUMBER FROM':'STREET NUMBER'}, inplace = True)\n",
    "\n",
    "noise_complaints_df.head(1)"
   ]
  },
  {
   "cell_type": "markdown",
   "metadata": {},
   "source": [
    "### Add new columns required."
   ]
  },
  {
   "cell_type": "code",
   "execution_count": 14,
   "metadata": {
    "scrolled": true
   },
   "outputs": [
    {
     "data": {
      "text/html": [
       "<div>\n",
       "<style scoped>\n",
       "    .dataframe tbody tr th:only-of-type {\n",
       "        vertical-align: middle;\n",
       "    }\n",
       "\n",
       "    .dataframe tbody tr th {\n",
       "        vertical-align: top;\n",
       "    }\n",
       "\n",
       "    .dataframe thead th {\n",
       "        text-align: right;\n",
       "    }\n",
       "</style>\n",
       "<table border=\"1\" class=\"dataframe\">\n",
       "  <thead>\n",
       "    <tr style=\"text-align: right;\">\n",
       "      <th></th>\n",
       "      <th>STREET NUMBER</th>\n",
       "      <th>DIRECTION</th>\n",
       "      <th>STREET NAME</th>\n",
       "      <th>STREET TYPE</th>\n",
       "      <th>COMPLAINT DATE</th>\n",
       "      <th>COMPLAINT DETAIL</th>\n",
       "      <th>FORMATTED DATE</th>\n",
       "      <th>ZIP CODE</th>\n",
       "      <th>CITY</th>\n",
       "      <th>STATE</th>\n",
       "      <th>PARTIAL ADDRESS</th>\n",
       "      <th>FULL ADDRESS</th>\n",
       "      <th>LATITUDE</th>\n",
       "      <th>LONGITUDE</th>\n",
       "    </tr>\n",
       "  </thead>\n",
       "  <tbody>\n",
       "    <tr>\n",
       "      <th>0</th>\n",
       "      <td>1</td>\n",
       "      <td>S</td>\n",
       "      <td>STATE</td>\n",
       "      <td>ST</td>\n",
       "      <td>08/23/1993</td>\n",
       "      <td>STREET MUSIC HEAVY NOISE POLLUTION REFERRED TO...</td>\n",
       "      <td>1993-08-23</td>\n",
       "      <td></td>\n",
       "      <td>Chicago</td>\n",
       "      <td>IL</td>\n",
       "      <td>1 S STATE ST, Chicago, IL</td>\n",
       "      <td></td>\n",
       "      <td></td>\n",
       "      <td></td>\n",
       "    </tr>\n",
       "  </tbody>\n",
       "</table>\n",
       "</div>"
      ],
      "text/plain": [
       "   STREET NUMBER DIRECTION STREET NAME STREET TYPE COMPLAINT DATE  \\\n",
       "0              1         S       STATE          ST     08/23/1993   \n",
       "\n",
       "                                    COMPLAINT DETAIL FORMATTED DATE ZIP CODE  \\\n",
       "0  STREET MUSIC HEAVY NOISE POLLUTION REFERRED TO...     1993-08-23            \n",
       "\n",
       "      CITY STATE            PARTIAL ADDRESS FULL ADDRESS LATITUDE LONGITUDE  \n",
       "0  Chicago    IL  1 S STATE ST, Chicago, IL                                  "
      ]
     },
     "execution_count": 14,
     "metadata": {},
     "output_type": "execute_result"
    }
   ],
   "source": [
    "# Add columns to store formatted date, zip code, full address, latitude, and longitude.\n",
    "\n",
    "# Add FORMATTED DATE column derived from COMPLAINT DATE column. This column holds dates in Pandas DateTime format and \n",
    "# will be used to select noise complaints within recent years.\n",
    "noise_complaints_df[\"FORMATTED DATE\"] = pd.to_datetime(noise_complaints_df[\"COMPLAINT DATE\"])\n",
    "\n",
    "# Add ZIP CODE column. Will be populated with results of API call and will be used to join PostgresSQL tables.\n",
    "noise_complaints_df[\"ZIP CODE\"] = \"\"\n",
    "\n",
    "# Add CITY column.\n",
    "noise_complaints_df[\"CITY\"] = \"Chicago\"\n",
    "\n",
    "# Add STATE column.\n",
    "noise_complaints_df[\"STATE\"] = \"IL\"\n",
    "\n",
    "# Add partial address column and compute contents from existing columns. \n",
    "# STREET NUMBER FROM is assumed to be representative of the point location of the complaint.\n",
    "noise_complaints_df[\"PARTIAL ADDRESS\"] = (noise_complaints_df[\"STREET NUMBER\"].map(str)+\" \"+noise_complaints_df[\"DIRECTION\"]\n",
    "                                          +\" \"+noise_complaints_df['STREET NAME']+\" \"+noise_complaints_df['STREET TYPE']\n",
    "                                          +\", \"+noise_complaints_df['CITY']+\", \"+noise_complaints_df['STATE'])\n",
    "\n",
    "# Add FULL ADDRESS column. Will be populated with results from API call, including zip code.\n",
    "noise_complaints_df[\"FULL ADDRESS\"] = \"\"\n",
    "\n",
    "# Add LATITUDE and LONGITUDE columns\n",
    "noise_complaints_df[\"LATITUDE\"]=\"\"\n",
    "noise_complaints_df[\"LONGITUDE\"]=\"\"\n",
    "\n",
    "noise_complaints_df.head(1)"
   ]
  },
  {
   "cell_type": "markdown",
   "metadata": {},
   "source": [
    "### Reorder columns"
   ]
  },
  {
   "cell_type": "code",
   "execution_count": 15,
   "metadata": {},
   "outputs": [
    {
     "data": {
      "text/html": [
       "<div>\n",
       "<style scoped>\n",
       "    .dataframe tbody tr th:only-of-type {\n",
       "        vertical-align: middle;\n",
       "    }\n",
       "\n",
       "    .dataframe tbody tr th {\n",
       "        vertical-align: top;\n",
       "    }\n",
       "\n",
       "    .dataframe thead th {\n",
       "        text-align: right;\n",
       "    }\n",
       "</style>\n",
       "<table border=\"1\" class=\"dataframe\">\n",
       "  <thead>\n",
       "    <tr style=\"text-align: right;\">\n",
       "      <th></th>\n",
       "      <th>COMPLAINT DATE</th>\n",
       "      <th>COMPLAINT DETAIL</th>\n",
       "      <th>FORMATTED DATE</th>\n",
       "      <th>STREET NUMBER</th>\n",
       "      <th>DIRECTION</th>\n",
       "      <th>STREET NAME</th>\n",
       "      <th>STREET TYPE</th>\n",
       "      <th>ZIP CODE</th>\n",
       "      <th>PARTIAL ADDRESS</th>\n",
       "      <th>FULL ADDRESS</th>\n",
       "      <th>LATITUDE</th>\n",
       "      <th>LONGITUDE</th>\n",
       "    </tr>\n",
       "  </thead>\n",
       "  <tbody>\n",
       "    <tr>\n",
       "      <th>0</th>\n",
       "      <td>08/23/1993</td>\n",
       "      <td>STREET MUSIC HEAVY NOISE POLLUTION REFERRED TO...</td>\n",
       "      <td>1993-08-23</td>\n",
       "      <td>1</td>\n",
       "      <td>S</td>\n",
       "      <td>STATE</td>\n",
       "      <td>ST</td>\n",
       "      <td></td>\n",
       "      <td>1 S STATE ST, Chicago, IL</td>\n",
       "      <td></td>\n",
       "      <td></td>\n",
       "      <td></td>\n",
       "    </tr>\n",
       "    <tr>\n",
       "      <th>1</th>\n",
       "      <td>04/02/1993</td>\n",
       "      <td>SAXOPHONE PLAYING ON MADISON.</td>\n",
       "      <td>1993-04-02</td>\n",
       "      <td>10</td>\n",
       "      <td>S</td>\n",
       "      <td>WACKER</td>\n",
       "      <td>DR</td>\n",
       "      <td></td>\n",
       "      <td>10 S WACKER DR, Chicago, IL</td>\n",
       "      <td></td>\n",
       "      <td></td>\n",
       "      <td></td>\n",
       "    </tr>\n",
       "    <tr>\n",
       "      <th>2</th>\n",
       "      <td>08/09/1995</td>\n",
       "      <td>ALLIED VALVE INDUSTRIES             TEST COMPR...</td>\n",
       "      <td>1995-08-09</td>\n",
       "      <td>1019</td>\n",
       "      <td>W</td>\n",
       "      <td>GRAND</td>\n",
       "      <td>AVE</td>\n",
       "      <td></td>\n",
       "      <td>1019 W GRAND AVE, Chicago, IL</td>\n",
       "      <td></td>\n",
       "      <td></td>\n",
       "      <td></td>\n",
       "    </tr>\n",
       "    <tr>\n",
       "      <th>3</th>\n",
       "      <td>01/24/2001</td>\n",
       "      <td>S&amp;S WAREHOUSE                       EXHAUST FA...</td>\n",
       "      <td>2001-01-24</td>\n",
       "      <td>10300</td>\n",
       "      <td>S</td>\n",
       "      <td>COTTAGE GROVE</td>\n",
       "      <td>AVE</td>\n",
       "      <td></td>\n",
       "      <td>10300 S COTTAGE GROVE AVE, Chicago, IL</td>\n",
       "      <td></td>\n",
       "      <td></td>\n",
       "      <td></td>\n",
       "    </tr>\n",
       "    <tr>\n",
       "      <th>4</th>\n",
       "      <td>05/17/2010</td>\n",
       "      <td>GENERATOR NOISE PRODUCING FUMES IN THE ALLEY. ...</td>\n",
       "      <td>2010-05-17</td>\n",
       "      <td>1035</td>\n",
       "      <td>W</td>\n",
       "      <td>LAKE</td>\n",
       "      <td>ST</td>\n",
       "      <td></td>\n",
       "      <td>1035 W LAKE ST, Chicago, IL</td>\n",
       "      <td></td>\n",
       "      <td></td>\n",
       "      <td></td>\n",
       "    </tr>\n",
       "  </tbody>\n",
       "</table>\n",
       "</div>"
      ],
      "text/plain": [
       "  COMPLAINT DATE                                   COMPLAINT DETAIL  \\\n",
       "0     08/23/1993  STREET MUSIC HEAVY NOISE POLLUTION REFERRED TO...   \n",
       "1     04/02/1993                      SAXOPHONE PLAYING ON MADISON.   \n",
       "2     08/09/1995  ALLIED VALVE INDUSTRIES             TEST COMPR...   \n",
       "3     01/24/2001  S&S WAREHOUSE                       EXHAUST FA...   \n",
       "4     05/17/2010  GENERATOR NOISE PRODUCING FUMES IN THE ALLEY. ...   \n",
       "\n",
       "  FORMATTED DATE  STREET NUMBER DIRECTION    STREET NAME STREET TYPE ZIP CODE  \\\n",
       "0     1993-08-23              1         S          STATE          ST            \n",
       "1     1993-04-02             10         S         WACKER          DR            \n",
       "2     1995-08-09           1019         W          GRAND         AVE            \n",
       "3     2001-01-24          10300         S  COTTAGE GROVE         AVE            \n",
       "4     2010-05-17           1035         W           LAKE          ST            \n",
       "\n",
       "                          PARTIAL ADDRESS FULL ADDRESS LATITUDE LONGITUDE  \n",
       "0               1 S STATE ST, Chicago, IL                                  \n",
       "1             10 S WACKER DR, Chicago, IL                                  \n",
       "2           1019 W GRAND AVE, Chicago, IL                                  \n",
       "3  10300 S COTTAGE GROVE AVE, Chicago, IL                                  \n",
       "4             1035 W LAKE ST, Chicago, IL                                  "
      ]
     },
     "execution_count": 15,
     "metadata": {},
     "output_type": "execute_result"
    }
   ],
   "source": [
    "# Reorder columns\n",
    "noise_complaints_df = noise_complaints_df[['COMPLAINT DATE', 'COMPLAINT DETAIL', 'FORMATTED DATE', 'STREET NUMBER', 'DIRECTION', 'STREET NAME', 'STREET TYPE', 'ZIP CODE', 'PARTIAL ADDRESS', 'FULL ADDRESS',  'LATITUDE', 'LONGITUDE']]\n",
    "\n",
    "noise_complaints_df.head(5)"
   ]
  },
  {
   "cell_type": "markdown",
   "metadata": {},
   "source": [
    "### Drop complaints dated earlier than 1/1/2016, keeping only complaints within approximately the last 5 years."
   ]
  },
  {
   "cell_type": "code",
   "execution_count": 16,
   "metadata": {},
   "outputs": [
    {
     "name": "stdout",
     "output_type": "stream",
     "text": [
      "     COMPLAINT DATE                                   COMPLAINT DETAIL  \\\n",
      "195      01/25/2016             VERY LOUD NOSY ROOF TOP AFTER 6:20 PM.   \n",
      "196      03/10/2016  COMMERCIAL NOISE COMING FROM ROOF TOP AFTER 8 PM.   \n",
      "197      05/26/2016  VENTILATION FAN MAKING LOUD HUMMING NOISE ALL ...   \n",
      "198      06/16/2016  COMMERCIAL/RESIDENTIAL AIR CONDITIONER UNIT ON...   \n",
      "199      06/28/2016  CHILLERS ON THE ROOF MAKING NOISE AND BOTHERIN...   \n",
      "...             ...                                                ...   \n",
      "9235     01/02/2020  VERY LOUD AIR CONDITIONER OR INDUSTRIAL COMMER...   \n",
      "9236     07/20/2020  AIR COMPRESSOR ON REAR OF BLDG IS PERIODICALLY...   \n",
      "9237     11/16/2020                                                NaN   \n",
      "9238     02/04/2020  CALLER STATES THAT THE DEVELOPER CONTINUED TO ...   \n",
      "9239     03/12/2020  NOISE COMING FROM KITCHEN EQUIPMENT CREATING L...   \n",
      "\n",
      "     FORMATTED DATE  STREET NUMBER DIRECTION STREET NAME STREET TYPE ZIP CODE  \\\n",
      "195      2016-01-25           1456         N      DAYTON          ST            \n",
      "196      2016-03-10             19         S      WABASH         AVE            \n",
      "197      2016-05-26           1500         N    CLYBOURN         AVE            \n",
      "198      2016-06-16            640         N      WABASH         AVE            \n",
      "199      2016-06-28           1035         N    DEARBORN          ST            \n",
      "...             ...            ...       ...         ...         ...      ...   \n",
      "9235     2020-01-02           3631         N     HALSTED          ST            \n",
      "9236     2020-07-20           5100         N  RAVENSWOOD         AVE            \n",
      "9237     2020-11-16           4335         W   KAMERLING         AVE            \n",
      "9238     2020-02-04           1743         N      MOZART          ST            \n",
      "9239     2020-03-12           1756         W        18TH          ST            \n",
      "\n",
      "                         PARTIAL ADDRESS FULL ADDRESS LATITUDE LONGITUDE  \n",
      "195        1456 N DAYTON ST, Chicago, IL                                  \n",
      "196         19 S WABASH AVE, Chicago, IL                                  \n",
      "197     1500 N CLYBOURN AVE, Chicago, IL                                  \n",
      "198        640 N WABASH AVE, Chicago, IL                                  \n",
      "199      1035 N DEARBORN ST, Chicago, IL                                  \n",
      "...                                  ...          ...      ...       ...  \n",
      "9235      3631 N HALSTED ST, Chicago, IL                                  \n",
      "9236  5100 N RAVENSWOOD AVE, Chicago, IL                                  \n",
      "9237   4335 W KAMERLING AVE, Chicago, IL                                  \n",
      "9238       1743 N MOZART ST, Chicago, IL                                  \n",
      "9239         1756 W 18TH ST, Chicago, IL                                  \n",
      "\n",
      "[1152 rows x 12 columns]\n"
     ]
    }
   ],
   "source": [
    "# Format 1/1/2016 as datetime object so it can be used in date comparison step.\n",
    "date = dt.datetime.strptime('1/1/2016', '%m/%d/%Y')\n",
    "\n",
    "# Select rows in which FORMATTED DATE is >= 1/1/2016. Store results in new DataFrame.\n",
    "last_5_years_df = noise_complaints_df.loc[noise_complaints_df[\"FORMATTED DATE\"] >= date]\n",
    "\n",
    "# Sort ascending and print to check that prior dates were successfully removed.\n",
    "last_5_years_df.sort_values(\"FORMATTED DATE\")\n",
    "print(last_5_years_df)"
   ]
  },
  {
   "cell_type": "markdown",
   "metadata": {},
   "source": [
    "### Get zip code, full address, latitude, and longitude from Google Maps geocoding API.\n"
   ]
  },
  {
   "cell_type": "code",
   "execution_count": 17,
   "metadata": {
    "scrolled": false
   },
   "outputs": [],
   "source": [
    "# Create a test dataframe\n",
    "test_df = last_5_years_df.head(10)"
   ]
  },
  {
   "cell_type": "code",
   "execution_count": 9,
   "metadata": {
    "scrolled": true
   },
   "outputs": [
    {
     "data": {
      "text/html": [
       "<div>\n",
       "<style scoped>\n",
       "    .dataframe tbody tr th:only-of-type {\n",
       "        vertical-align: middle;\n",
       "    }\n",
       "\n",
       "    .dataframe tbody tr th {\n",
       "        vertical-align: top;\n",
       "    }\n",
       "\n",
       "    .dataframe thead th {\n",
       "        text-align: right;\n",
       "    }\n",
       "</style>\n",
       "<table border=\"1\" class=\"dataframe\">\n",
       "  <thead>\n",
       "    <tr style=\"text-align: right;\">\n",
       "      <th></th>\n",
       "      <th>COMPLAINT DATE</th>\n",
       "      <th>COMPLAINT DETAIL</th>\n",
       "      <th>FORMATTED DATE</th>\n",
       "      <th>STREET NUMBER</th>\n",
       "      <th>DIRECTION</th>\n",
       "      <th>STREET NAME</th>\n",
       "      <th>STREET TYPE</th>\n",
       "      <th>ZIP CODE</th>\n",
       "      <th>PARTIAL ADDRESS</th>\n",
       "      <th>FULL ADDRESS</th>\n",
       "      <th>LATITUDE</th>\n",
       "      <th>LONGITUDE</th>\n",
       "    </tr>\n",
       "  </thead>\n",
       "  <tbody>\n",
       "    <tr>\n",
       "      <th>195</th>\n",
       "      <td>01/25/2016</td>\n",
       "      <td>VERY LOUD NOSY ROOF TOP AFTER 6:20 PM.</td>\n",
       "      <td>2016-01-25</td>\n",
       "      <td>1456</td>\n",
       "      <td>N</td>\n",
       "      <td>DAYTON</td>\n",
       "      <td>ST</td>\n",
       "      <td>60642</td>\n",
       "      <td>1456 N DAYTON ST, Chicago, IL</td>\n",
       "      <td>1456 N Dayton St, Chicago, IL 60642, USA</td>\n",
       "      <td>41.9084</td>\n",
       "      <td>-87.6499</td>\n",
       "    </tr>\n",
       "    <tr>\n",
       "      <th>196</th>\n",
       "      <td>03/10/2016</td>\n",
       "      <td>COMMERCIAL NOISE COMING FROM ROOF TOP AFTER 8 PM.</td>\n",
       "      <td>2016-03-10</td>\n",
       "      <td>19</td>\n",
       "      <td>S</td>\n",
       "      <td>WABASH</td>\n",
       "      <td>AVE</td>\n",
       "      <td>60603</td>\n",
       "      <td>19 S WABASH AVE, Chicago, IL</td>\n",
       "      <td>19 S Wabash Ave, Chicago, IL 60603, USA</td>\n",
       "      <td>41.8816</td>\n",
       "      <td>-87.6258</td>\n",
       "    </tr>\n",
       "    <tr>\n",
       "      <th>197</th>\n",
       "      <td>05/26/2016</td>\n",
       "      <td>VENTILATION FAN MAKING LOUD HUMMING NOISE ALL ...</td>\n",
       "      <td>2016-05-26</td>\n",
       "      <td>1500</td>\n",
       "      <td>N</td>\n",
       "      <td>CLYBOURN</td>\n",
       "      <td>AVE</td>\n",
       "      <td>60610</td>\n",
       "      <td>1500 N CLYBOURN AVE, Chicago, IL</td>\n",
       "      <td>1500 N Clybourn Ave, Chicago, IL 60610, USA</td>\n",
       "      <td>41.9083</td>\n",
       "      <td>-87.6462</td>\n",
       "    </tr>\n",
       "    <tr>\n",
       "      <th>198</th>\n",
       "      <td>06/16/2016</td>\n",
       "      <td>COMMERCIAL/RESIDENTIAL AIR CONDITIONER UNIT ON...</td>\n",
       "      <td>2016-06-16</td>\n",
       "      <td>640</td>\n",
       "      <td>N</td>\n",
       "      <td>WABASH</td>\n",
       "      <td>AVE</td>\n",
       "      <td>60611</td>\n",
       "      <td>640 N WABASH AVE, Chicago, IL</td>\n",
       "      <td>640 N Wabash Ave, Chicago, IL 60611, USA</td>\n",
       "      <td>41.8938</td>\n",
       "      <td>-87.6271</td>\n",
       "    </tr>\n",
       "    <tr>\n",
       "      <th>199</th>\n",
       "      <td>06/28/2016</td>\n",
       "      <td>CHILLERS ON THE ROOF MAKING NOISE AND BOTHERIN...</td>\n",
       "      <td>2016-06-28</td>\n",
       "      <td>1035</td>\n",
       "      <td>N</td>\n",
       "      <td>DEARBORN</td>\n",
       "      <td>ST</td>\n",
       "      <td>60610</td>\n",
       "      <td>1035 N DEARBORN ST, Chicago, IL</td>\n",
       "      <td>1035 N Dearborn St, Chicago, IL 60610, USA</td>\n",
       "      <td>41.9017</td>\n",
       "      <td>-87.6295</td>\n",
       "    </tr>\n",
       "  </tbody>\n",
       "</table>\n",
       "</div>"
      ],
      "text/plain": [
       "    COMPLAINT DATE                                   COMPLAINT DETAIL  \\\n",
       "195     01/25/2016             VERY LOUD NOSY ROOF TOP AFTER 6:20 PM.   \n",
       "196     03/10/2016  COMMERCIAL NOISE COMING FROM ROOF TOP AFTER 8 PM.   \n",
       "197     05/26/2016  VENTILATION FAN MAKING LOUD HUMMING NOISE ALL ...   \n",
       "198     06/16/2016  COMMERCIAL/RESIDENTIAL AIR CONDITIONER UNIT ON...   \n",
       "199     06/28/2016  CHILLERS ON THE ROOF MAKING NOISE AND BOTHERIN...   \n",
       "\n",
       "    FORMATTED DATE  STREET NUMBER DIRECTION STREET NAME STREET TYPE ZIP CODE  \\\n",
       "195     2016-01-25           1456         N      DAYTON          ST    60642   \n",
       "196     2016-03-10             19         S      WABASH         AVE    60603   \n",
       "197     2016-05-26           1500         N    CLYBOURN         AVE    60610   \n",
       "198     2016-06-16            640         N      WABASH         AVE    60611   \n",
       "199     2016-06-28           1035         N    DEARBORN          ST    60610   \n",
       "\n",
       "                      PARTIAL ADDRESS  \\\n",
       "195     1456 N DAYTON ST, Chicago, IL   \n",
       "196      19 S WABASH AVE, Chicago, IL   \n",
       "197  1500 N CLYBOURN AVE, Chicago, IL   \n",
       "198     640 N WABASH AVE, Chicago, IL   \n",
       "199   1035 N DEARBORN ST, Chicago, IL   \n",
       "\n",
       "                                    FULL ADDRESS LATITUDE LONGITUDE  \n",
       "195     1456 N Dayton St, Chicago, IL 60642, USA  41.9084  -87.6499  \n",
       "196      19 S Wabash Ave, Chicago, IL 60603, USA  41.8816  -87.6258  \n",
       "197  1500 N Clybourn Ave, Chicago, IL 60610, USA  41.9083  -87.6462  \n",
       "198     640 N Wabash Ave, Chicago, IL 60611, USA  41.8938  -87.6271  \n",
       "199   1035 N Dearborn St, Chicago, IL 60610, USA  41.9017  -87.6295  "
      ]
     },
     "execution_count": 9,
     "metadata": {},
     "output_type": "execute_result"
    }
   ],
   "source": [
    "# Test API call in a for loop over (a copy of) test_df.\n",
    "\n",
    "for index, row in test_df.iterrows():\n",
    "    \n",
    "    try:\n",
    "        \n",
    "        # Send partial addresses through Google Maps geocoding api call to retreive additional locational information.\n",
    "        test_address = row[\"PARTIAL ADDRESS\"]\n",
    "        url = ('https://maps.googleapis.com/maps/api/geocode/json?address={0}&key={1}').format(test_address, gmaps_key)\n",
    "        response = requests.get(url).json()\n",
    "        \n",
    "        # Extract results of interest from json.\n",
    "        zip_code = response[\"results\"][0][\"address_components\"][7][\"short_name\"]\n",
    "        full_address = response[\"results\"][0][\"formatted_address\"]\n",
    "        lat = response[\"results\"][0][\"geometry\"][\"location\"][\"lat\"]\n",
    "        lng = response[\"results\"][0][\"geometry\"][\"location\"][\"lng\"]\n",
    "        \n",
    "        # Store zip code in appropriate column of (original) test_df.\n",
    "        test_df.at[index, \"ZIP CODE\"] = zip_code\n",
    "        test_df.at[index, \"FULL ADDRESS\"] = full_address\n",
    "        test_df.at[index, \"LATITUDE\"] = lat\n",
    "        test_df.at[index, \"LONGITUDE\"] = lng\n",
    "    \n",
    "    except(): pass\n",
    "    \n",
    "test_df.head()"
   ]
  },
  {
   "cell_type": "markdown",
   "metadata": {},
   "source": [
    "### Export 'Recent Noise Complaints with Zip' to PostgreSQL database."
   ]
  },
  {
   "cell_type": "code",
   "execution_count": null,
   "metadata": {},
   "outputs": [],
   "source": []
  },
  {
   "cell_type": "markdown",
   "metadata": {},
   "source": [
    "Drop columns no longer needed."
   ]
  },
  {
   "cell_type": "code",
   "execution_count": null,
   "metadata": {},
   "outputs": [],
   "source": [
    "# Drop ... columns.\n",
    "(noise_complaints_df.drop(columns=['', '', '', '', \n",
    "                                   '', '', ''], inplace=True))"
   ]
  },
  {
   "cell_type": "markdown",
   "metadata": {},
   "source": [
    "Check for missing data."
   ]
  },
  {
   "cell_type": "code",
   "execution_count": 18,
   "metadata": {},
   "outputs": [],
   "source": [
    "# Check for NaNs"
   ]
  },
  {
   "cell_type": "markdown",
   "metadata": {},
   "source": [
    "Check for duplicates."
   ]
  },
  {
   "cell_type": "code",
   "execution_count": null,
   "metadata": {},
   "outputs": [],
   "source": [
    "noise_complaints_df.drop_duplicates(\"id\", inplace=True)"
   ]
  },
  {
   "cell_type": "markdown",
   "metadata": {},
   "source": [
    "Aggregate data to zip codes."
   ]
  },
  {
   "cell_type": "markdown",
   "metadata": {},
   "source": [
    "## Load"
   ]
  },
  {
   "cell_type": "markdown",
   "metadata": {},
   "source": [
    "Export transformed Pandas DataFrame to PostgreSQL database."
   ]
  },
  {
   "cell_type": "code",
   "execution_count": null,
   "metadata": {},
   "outputs": [],
   "source": []
  }
 ],
 "metadata": {
  "kernelspec": {
   "display_name": "Python 3",
   "language": "python",
   "name": "python3"
  },
  "language_info": {
   "codemirror_mode": {
    "name": "ipython",
    "version": 3
   },
   "file_extension": ".py",
   "mimetype": "text/x-python",
   "name": "python",
   "nbconvert_exporter": "python",
   "pygments_lexer": "ipython3",
   "version": "3.8.3"
  }
 },
 "nbformat": 4,
 "nbformat_minor": 4
}
